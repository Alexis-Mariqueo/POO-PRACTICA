{
  "cells": [
    {
      "cell_type": "markdown",
      "metadata": {
        "id": "33bx8qoQL7fI"
      },
      "source": [
        "# Práctica básica de python"
      ]
    },
    {
      "cell_type": "markdown",
      "metadata": {
        "id": "qd3mN4IRMElU"
      },
      "source": [
        "1.   Ingrese dos valores por consola y devuelva el producto de ambos si el resultado es menor a 1000, sino devolver su suma.\n",
        "\n"
      ]
    },
    {
      "cell_type": "code",
      "execution_count": 7,
      "metadata": {
        "colab": {
          "base_uri": "https://localhost:8080/"
        },
        "id": "4ACOSw_oLDWi",
        "outputId": "51f25a0d-47a0-42fc-c223-1a3ea28aaa51"
      },
      "outputs": [
        {
          "name": "stdout",
          "output_type": "stream",
          "text": [
            "Como no ingreso un numero, el calculo no se realizo\n",
            "Como no ingreso un numero, el calculo no se realizo\n",
            "Como no ingreso un numero, el calculo no se realizo\n",
            "Producto: 20\n"
          ]
        }
      ],
      "source": [
        "\n",
        "while True:\n",
        "    try:\n",
        "        valor_1 = input (\"Ingresa el valor_1: \")\n",
        "        valor_2 = input(\"Ingresa el valor_2:\")\n",
        "        producto = int(valor_1) * int(valor_2) \n",
        "\n",
        "        if producto < 1000:\n",
        "            print(\"Producto: {}\".format(producto))\n",
        "        else:\n",
        "            suma = int(valor_1) + int(valor_2)\n",
        "            print(\"Suma: {}\".format(suma))\n",
        "        break\n",
        "    except ValueError:\n",
        "        print(\"Como no ingreso un numero, el calculo no se realizo\")        \n",
        "\n",
        "    \n",
        "    \n",
        "    \n",
        "    \n",
        "    "
      ]
    },
    {
      "cell_type": "markdown",
      "metadata": {
        "id": "7CFhHxl2NSOL"
      },
      "source": [
        "2.   Itere sobre los primeros 10 números y en cada iteración imprima la suma del numero actual y el anterior."
      ]
    },
    {
      "cell_type": "code",
      "execution_count": 12,
      "metadata": {
        "colab": {
          "base_uri": "https://localhost:8080/"
        },
        "id": "ITktRattLoYV",
        "outputId": "b237a68b-8884-442f-85ed-fe20ab3b6d98"
      },
      "outputs": [
        {
          "name": "stdout",
          "output_type": "stream",
          "text": [
            "Suma con numero actual: 0\n",
            "Suma anterior: 0\n",
            "Suma con numero actual: 1\n",
            "Suma anterior: 0\n",
            "Suma con numero actual: 3\n",
            "Suma anterior: 1\n",
            "Suma con numero actual: 6\n",
            "Suma anterior: 3\n",
            "Suma con numero actual: 10\n",
            "Suma anterior: 6\n",
            "Suma con numero actual: 15\n",
            "Suma anterior: 10\n",
            "Suma con numero actual: 21\n",
            "Suma anterior: 15\n",
            "Suma con numero actual: 28\n",
            "Suma anterior: 21\n",
            "Suma con numero actual: 36\n",
            "Suma anterior: 28\n",
            "Suma con numero actual: 45\n",
            "Suma anterior: 36\n"
          ]
        }
      ],
      "source": [
        "total = 0\n",
        "anterior = 0\n",
        "for i in range(0,10):\n",
        "    total+=i\n",
        "    anterior= total - i \n",
        "    print(\"Suma con numero actual: {}\".format(total))\n",
        "    print(\"Suma anterior: {}\".format(anterior))\n",
        "    "
      ]
    },
    {
      "cell_type": "markdown",
      "metadata": {
        "id": "wXqPytg4NeLq"
      },
      "source": [
        "3.   Dada una cadena ingresada por consola, imprima los caracteres en posiciones pares. Por ejemplo para la cadena \"hola\" debería imprimir h l"
      ]
    },
    {
      "cell_type": "code",
      "execution_count": 66,
      "metadata": {
        "colab": {
          "base_uri": "https://localhost:8080/"
        },
        "id": "mpeNgbisM5r8",
        "outputId": "0d0de821-47fe-4e04-e64f-8cea5447fe69"
      },
      "outputs": [
        {
          "name": "stdout",
          "output_type": "stream",
          "text": [
            "a\n",
            "e\n",
            "i\n"
          ]
        }
      ],
      "source": [
        "cadena = input (\"Ingrese una palabra\")\n",
        "for i in range(len(cadena)):\n",
        "    if not i % 2 :\n",
        "        print(cadena[i])"
      ]
    },
    {
      "cell_type": "markdown",
      "metadata": {
        "id": "FJ7aY8r6OlRv"
      },
      "source": [
        "4.   Escriba una función que remueva los primeros n elementos de un string"
      ]
    },
    {
      "cell_type": "code",
      "execution_count": 53,
      "metadata": {
        "colab": {
          "base_uri": "https://localhost:8080/"
        },
        "id": "zS0jvUX5N2D9",
        "outputId": "7e81b272-3871-437b-f7f7-709072584190"
      },
      "outputs": [
        {
          "name": "stdout",
          "output_type": "stream",
          "text": [
            "it_adena\n"
          ]
        }
      ],
      "source": [
        "lista = []\n",
        "\n",
        "def lista_cadena(cadena):\n",
        "    \n",
        "    for i in range(len(cadena)):\n",
        "        lista.append(cadena[i])\n",
        "    return lista\n",
        "\n",
        "def remover_elementos(cadena,n):\n",
        "    palabra = \"\"\n",
        "    lista_cade = lista_cadena(cadena)\n",
        "    for carac in range(0,n): \n",
        "        lista_cade.remove(lista_cade[carac])\n",
        "    \n",
        "    for indice in range(0,len(lista_cade)):\n",
        "        palabra += lista_cade[indice]\n",
        "    return palabra\n",
        "\n",
        "\n",
        "while True:\n",
        "    try:\n",
        "        texto = input(\"Ingrese una palabra: \")\n",
        "        numero = input(\"Ingrese un numero: \")\n",
        "        int(numero)\n",
        "        break\n",
        "    except ValueError:\n",
        "        print(\"Error. Debe ingresar un numero\")\n",
        "        \n",
        "print(remover_elementos(texto,int(numero)))"
      ]
    },
    {
      "cell_type": "markdown",
      "metadata": {
        "id": "CYK-q1NKPunW"
      },
      "source": [
        "5.   Escriba una función que devuelva True si el ultimo numero es igual al primero, y falso si son diferentes."
      ]
    },
    {
      "cell_type": "code",
      "execution_count": 55,
      "metadata": {
        "colab": {
          "base_uri": "https://localhost:8080/"
        },
        "id": "h4wGWGu9PA0w",
        "outputId": "55bcdef8-381c-4395-c82d-5986815e39e0"
      },
      "outputs": [
        {
          "name": "stdout",
          "output_type": "stream",
          "text": [
            "True\n"
          ]
        }
      ],
      "source": [
        "\n",
        "def devolver_valor(valor_1,valor_2):\n",
        "    if valor_1 == valor_2:\n",
        "        return True\n",
        "    else:\n",
        "        return False\n",
        "    \n",
        "print(devolver_valor(1,1))"
      ]
    },
    {
      "cell_type": "markdown",
      "metadata": {
        "id": "XVQZwTDSRAJP"
      },
      "source": [
        "6. Dada una lista imprima los elementos que sean divisibles por 5"
      ]
    },
    {
      "cell_type": "code",
      "execution_count": 98,
      "metadata": {
        "colab": {
          "base_uri": "https://localhost:8080/"
        },
        "id": "scoEf97BQsR_",
        "outputId": "edad29f0-a7ec-4991-f544-3ad8d55fdf56"
      },
      "outputs": [
        {
          "name": "stdout",
          "output_type": "stream",
          "text": [
            "5\n",
            "10\n",
            "25\n",
            "______________________________\n",
            "5\n",
            "10\n",
            "25\n"
          ]
        }
      ],
      "source": [
        "lista = [2,3,5,10,25,29]\n",
        "\n",
        "for i in range(0,len(lista)):\n",
        "    if  not (lista[i] % 5):\n",
        "        print(lista[i])\n",
        "\n",
        "print(\"______________________________\")\n",
        "\n",
        "for elemeto in lista:\n",
        "    if not elemeto % 5:\n",
        "        print(elemeto)"
      ]
    },
    {
      "cell_type": "markdown",
      "metadata": {
        "id": "Sh-l7QCrRp_H"
      },
      "source": [
        "7. Escriba un programa que cuente cuantas substrings existen dentro de un string. Ingrese ambas string por consola."
      ]
    },
    {
      "cell_type": "code",
      "execution_count": 100,
      "metadata": {
        "colab": {
          "base_uri": "https://localhost:8080/"
        },
        "id": "Lg9KzsOsRbQZ",
        "outputId": "3e69951f-c691-4c47-e61e-4ea905513bc9"
      },
      "outputs": [
        {
          "name": "stdout",
          "output_type": "stream",
          "text": [
            "La subcadena 'alexis' aparece 1 veces en la cadena 'alexis'.\n"
          ]
        }
      ],
      "source": [
        "def contar_substrings():\n",
        "    # Ingresar la cadena principal\n",
        "    cadena = input(\"Ingrese la cadena principal: \")\n",
        "    \n",
        "    # Ingresar la subcadena a buscar\n",
        "    subcadena = input(\"Ingrese la subcadena que desea contar: \")\n",
        "    \n",
        "    # Contar cuántas veces aparece la subcadena\n",
        "    cantidad = cadena.count(subcadena)\n",
        "    \n",
        "    # Mostrar el resultado\n",
        "    print(f\"La subcadena '{subcadena}' aparece {cantidad} veces en la cadena '{cadena}'.\")\n",
        "\n",
        "# Llamar a la función\n",
        "contar_substrings()\n"
      ]
    },
    {
      "cell_type": "markdown",
      "metadata": {
        "id": "t-2k4ozfZLLU"
      },
      "source": [
        "8. Escriba un programa que determine si un numero es palimdromo/capicua. Ej: 12321 o 707."
      ]
    },
    {
      "cell_type": "code",
      "execution_count": 127,
      "metadata": {
        "colab": {
          "base_uri": "https://localhost:8080/"
        },
        "id": "PQdHk57RW-nm",
        "outputId": "eb2bfe0c-2ac2-4031-f493-397edd85b361"
      },
      "outputs": [
        {
          "name": "stdout",
          "output_type": "stream",
          "text": [
            "['7', '0', '7']\n",
            "El numero 707 es palindromo\n"
          ]
        }
      ],
      "source": [
        "numero = 707\n",
        "valor = bool\n",
        "lista = []\n",
        "str(numero)\n",
        "\n",
        "for i in reversed(str(numero)):\n",
        "    lista.append(i)\n",
        "\n",
        "print(lista)\n",
        "cadena = str(numero)\n",
        "for i in range(0,len(cadena)):\n",
        "    if lista[i] == cadena[i]:\n",
        "        valor = True\n",
        "    else:\n",
        "        valor = False\n",
        "        break      \n",
        "    \n",
        "if valor == False:\n",
        "    print(f\"El numero: {numero} no es palindromo\")\n",
        "else:\n",
        "    print(f\"El numero {numero} es palindromo\")"
      ]
    },
    {
      "cell_type": "markdown",
      "metadata": {
        "id": "I_dstnDInMeX"
      },
      "source": [
        "9. dada dos listas de numeros, crear una tercera con los numeros pares de la primera y los impares de la tercera."
      ]
    },
    {
      "cell_type": "code",
      "execution_count": 130,
      "metadata": {
        "colab": {
          "base_uri": "https://localhost:8080/"
        },
        "id": "ESfneGlJYr6r",
        "outputId": "36c09f13-069f-475d-d2a3-68cc2e473321"
      },
      "outputs": [
        {
          "name": "stdout",
          "output_type": "stream",
          "text": [
            "[40, 20, 12, 25, 27, 7]\n"
          ]
        }
      ],
      "source": [
        "lista_1 = [17,40,20,15,12]\n",
        "lista_2 = [30,25,27,10,7]\n",
        "lista_3=[]\n",
        "\n",
        "for i in range(0,len(lista_1)):\n",
        "    if not lista_1[i] % 2:\n",
        "        lista_3.append(lista_1[i])\n",
        "\n",
        "\n",
        "for i in range(0,len(lista_2)):\n",
        "    if lista_2[i] % 2:\n",
        "        lista_3.append(lista_2[i])\n",
        "        \n",
        "print(lista_3)"
      ]
    },
    {
      "cell_type": "markdown",
      "metadata": {
        "id": "FJq1yXP6uiI9"
      },
      "source": [
        "10. Utilice la funcion filter() y una funcion lambda para lograr el mismo programa que en 9."
      ]
    },
    {
      "cell_type": "code",
      "execution_count": null,
      "metadata": {
        "colab": {
          "base_uri": "https://localhost:8080/"
        },
        "id": "6MHya_-Ku1MP",
        "outputId": "f5fbf0e0-dab7-4da5-82b9-aadaa5126e60"
      },
      "outputs": [],
      "source": []
    },
    {
      "cell_type": "markdown",
      "metadata": {
        "id": "HLu3zVSHoEHS"
      },
      "source": [
        "11. a partir de los siguientes dict, concatene en uno solo.\n",
        "{1:10, 2:20}\n",
        "{3:30, 4:40}\n",
        "{5:50, 6:60}"
      ]
    },
    {
      "cell_type": "code",
      "execution_count": null,
      "metadata": {
        "colab": {
          "base_uri": "https://localhost:8080/"
        },
        "id": "8Ka7Ya-3nvIf",
        "outputId": "d2fd550e-b1de-486f-9ab0-ca75b8b8ab7a"
      },
      "outputs": [],
      "source": []
    },
    {
      "cell_type": "markdown",
      "metadata": {
        "id": "HOv8EtCytF7D"
      },
      "source": [
        "12. Elimine los elementos vacios de un diccionario, por ejemplo dado {'a':1,'b':2,'c':None} conseguir {'a':1,'b':2}"
      ]
    },
    {
      "cell_type": "code",
      "execution_count": null,
      "metadata": {
        "colab": {
          "base_uri": "https://localhost:8080/"
        },
        "id": "lz9g0pmRsYWg",
        "outputId": "991f8539-0351-4f0f-bf41-2081b96afdeb"
      },
      "outputs": [],
      "source": []
    }
  ],
  "metadata": {
    "colab": {
      "provenance": []
    },
    "kernelspec": {
      "display_name": "Python 3",
      "name": "python3"
    },
    "language_info": {
      "codemirror_mode": {
        "name": "ipython",
        "version": 3
      },
      "file_extension": ".py",
      "mimetype": "text/x-python",
      "name": "python",
      "nbconvert_exporter": "python",
      "pygments_lexer": "ipython3",
      "version": "3.11.9"
    }
  },
  "nbformat": 4,
  "nbformat_minor": 0
}
